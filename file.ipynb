{
 "cells": [
  {
   "cell_type": "code",
   "execution_count": 14,
   "id": "2e72c488-120a-4bc0-8b40-839da5d7e248",
   "metadata": {},
   "outputs": [],
   "source": [
    "import numpy as np\n",
    "import pandas as pd\n",
    "import seaborn as sns\n",
    "import matplotlib.pyplot as plt\n",
    "import missingno as msno\n",
    "\n",
    "import warnings\n",
    "warnings.filterwarnings(\"ignore\")"
   ]
  },
  {
   "cell_type": "code",
   "execution_count": 15,
   "id": "46232e41-4cdc-4b8d-9027-10c67c8423b9",
   "metadata": {},
   "outputs": [
    {
     "data": {
      "text/html": [
       "<div>\n",
       "<style scoped>\n",
       "    .dataframe tbody tr th:only-of-type {\n",
       "        vertical-align: middle;\n",
       "    }\n",
       "\n",
       "    .dataframe tbody tr th {\n",
       "        vertical-align: top;\n",
       "    }\n",
       "\n",
       "    .dataframe thead th {\n",
       "        text-align: right;\n",
       "    }\n",
       "</style>\n",
       "<table border=\"1\" class=\"dataframe\">\n",
       "  <thead>\n",
       "    <tr style=\"text-align: right;\">\n",
       "      <th></th>\n",
       "      <th>id</th>\n",
       "      <th>date</th>\n",
       "      <th>time</th>\n",
       "      <th>crime_type</th>\n",
       "      <th>city</th>\n",
       "      <th>state</th>\n",
       "      <th>location_description</th>\n",
       "      <th>victim_age</th>\n",
       "      <th>victim_gender</th>\n",
       "      <th>victim_race</th>\n",
       "    </tr>\n",
       "  </thead>\n",
       "  <tbody>\n",
       "    <tr>\n",
       "      <th>0</th>\n",
       "      <td>1</td>\n",
       "      <td>2022-09-09</td>\n",
       "      <td>18:58:57</td>\n",
       "      <td>Homicide</td>\n",
       "      <td>Philadelphia</td>\n",
       "      <td>PA</td>\n",
       "      <td>9916 Broadway</td>\n",
       "      <td>34</td>\n",
       "      <td>Male</td>\n",
       "      <td>Other</td>\n",
       "    </tr>\n",
       "    <tr>\n",
       "      <th>1</th>\n",
       "      <td>2</td>\n",
       "      <td>2022-07-10</td>\n",
       "      <td>12:10:59</td>\n",
       "      <td>Assault</td>\n",
       "      <td>Phoenix</td>\n",
       "      <td>AZ</td>\n",
       "      <td>6853 Oak St</td>\n",
       "      <td>13</td>\n",
       "      <td>Female</td>\n",
       "      <td>Black</td>\n",
       "    </tr>\n",
       "    <tr>\n",
       "      <th>2</th>\n",
       "      <td>3</td>\n",
       "      <td>2024-12-31</td>\n",
       "      <td>09:26:12</td>\n",
       "      <td>Burglary</td>\n",
       "      <td>San Antonio</td>\n",
       "      <td>TX</td>\n",
       "      <td>3760 Maple Ave</td>\n",
       "      <td>23</td>\n",
       "      <td>Male</td>\n",
       "      <td>Asian</td>\n",
       "    </tr>\n",
       "    <tr>\n",
       "      <th>3</th>\n",
       "      <td>4</td>\n",
       "      <td>2024-04-12</td>\n",
       "      <td>23:17:28</td>\n",
       "      <td>Vandalism</td>\n",
       "      <td>Philadelphia</td>\n",
       "      <td>PA</td>\n",
       "      <td>6781 Main St</td>\n",
       "      <td>36</td>\n",
       "      <td>Other</td>\n",
       "      <td>Asian</td>\n",
       "    </tr>\n",
       "    <tr>\n",
       "      <th>4</th>\n",
       "      <td>5</td>\n",
       "      <td>2023-07-19</td>\n",
       "      <td>04:49:39</td>\n",
       "      <td>Fraud</td>\n",
       "      <td>San Antonio</td>\n",
       "      <td>TX</td>\n",
       "      <td>3239 Broadway</td>\n",
       "      <td>26</td>\n",
       "      <td>Other</td>\n",
       "      <td>Other</td>\n",
       "    </tr>\n",
       "  </tbody>\n",
       "</table>\n",
       "</div>"
      ],
      "text/plain": [
       "   id        date      time crime_type          city state  \\\n",
       "0   1  2022-09-09  18:58:57   Homicide  Philadelphia    PA   \n",
       "1   2  2022-07-10  12:10:59    Assault       Phoenix    AZ   \n",
       "2   3  2024-12-31  09:26:12   Burglary   San Antonio    TX   \n",
       "3   4  2024-04-12  23:17:28  Vandalism  Philadelphia    PA   \n",
       "4   5  2023-07-19  04:49:39      Fraud   San Antonio    TX   \n",
       "\n",
       "  location_description  victim_age victim_gender victim_race  \n",
       "0        9916 Broadway          34          Male       Other  \n",
       "1          6853 Oak St          13        Female       Black  \n",
       "2       3760 Maple Ave          23          Male       Asian  \n",
       "3         6781 Main St          36         Other       Asian  \n",
       "4        3239 Broadway          26         Other       Other  "
      ]
     },
     "execution_count": 15,
     "metadata": {},
     "output_type": "execute_result"
    }
   ],
   "source": [
    "df = pd.read_csv(\"crime_safety_dataset.csv\")\n",
    "df.head()"
   ]
  },
  {
   "cell_type": "code",
   "execution_count": 16,
   "id": "448b7965-4710-4cc2-8a61-18d660bbf3f7",
   "metadata": {},
   "outputs": [
    {
     "data": {
      "text/html": [
       "<div>\n",
       "<style scoped>\n",
       "    .dataframe tbody tr th:only-of-type {\n",
       "        vertical-align: middle;\n",
       "    }\n",
       "\n",
       "    .dataframe tbody tr th {\n",
       "        vertical-align: top;\n",
       "    }\n",
       "\n",
       "    .dataframe thead th {\n",
       "        text-align: right;\n",
       "    }\n",
       "</style>\n",
       "<table border=\"1\" class=\"dataframe\">\n",
       "  <thead>\n",
       "    <tr style=\"text-align: right;\">\n",
       "      <th></th>\n",
       "      <th>id</th>\n",
       "      <th>date</th>\n",
       "      <th>time</th>\n",
       "      <th>crime_type</th>\n",
       "      <th>city</th>\n",
       "      <th>state</th>\n",
       "      <th>location_description</th>\n",
       "      <th>victim_age</th>\n",
       "      <th>victim_gender</th>\n",
       "      <th>victim_race</th>\n",
       "    </tr>\n",
       "  </thead>\n",
       "  <tbody>\n",
       "    <tr>\n",
       "      <th>995</th>\n",
       "      <td>996</td>\n",
       "      <td>2023-02-23</td>\n",
       "      <td>07:24:57</td>\n",
       "      <td>Assault</td>\n",
       "      <td>New York</td>\n",
       "      <td>NY</td>\n",
       "      <td>2793 Oak St</td>\n",
       "      <td>72</td>\n",
       "      <td>Female</td>\n",
       "      <td>Asian</td>\n",
       "    </tr>\n",
       "    <tr>\n",
       "      <th>996</th>\n",
       "      <td>997</td>\n",
       "      <td>2024-10-15</td>\n",
       "      <td>18:10:35</td>\n",
       "      <td>Drug Offense</td>\n",
       "      <td>San Jose</td>\n",
       "      <td>CA</td>\n",
       "      <td>2798 Elm St</td>\n",
       "      <td>26</td>\n",
       "      <td>Male</td>\n",
       "      <td>Other</td>\n",
       "    </tr>\n",
       "    <tr>\n",
       "      <th>997</th>\n",
       "      <td>998</td>\n",
       "      <td>2024-02-08</td>\n",
       "      <td>04:00:11</td>\n",
       "      <td>Assault</td>\n",
       "      <td>Houston</td>\n",
       "      <td>TX</td>\n",
       "      <td>8950 Pine St</td>\n",
       "      <td>34</td>\n",
       "      <td>Non-binary</td>\n",
       "      <td>Hispanic</td>\n",
       "    </tr>\n",
       "    <tr>\n",
       "      <th>998</th>\n",
       "      <td>999</td>\n",
       "      <td>2023-01-18</td>\n",
       "      <td>16:52:36</td>\n",
       "      <td>Homicide</td>\n",
       "      <td>Chicago</td>\n",
       "      <td>IL</td>\n",
       "      <td>4673 Oak St</td>\n",
       "      <td>16</td>\n",
       "      <td>Other</td>\n",
       "      <td>Hispanic</td>\n",
       "    </tr>\n",
       "    <tr>\n",
       "      <th>999</th>\n",
       "      <td>1000</td>\n",
       "      <td>2022-07-19</td>\n",
       "      <td>01:28:45</td>\n",
       "      <td>Homicide</td>\n",
       "      <td>Los Angeles</td>\n",
       "      <td>CA</td>\n",
       "      <td>5226 Oak St</td>\n",
       "      <td>54</td>\n",
       "      <td>Male</td>\n",
       "      <td>White</td>\n",
       "    </tr>\n",
       "  </tbody>\n",
       "</table>\n",
       "</div>"
      ],
      "text/plain": [
       "       id        date      time    crime_type         city state  \\\n",
       "995   996  2023-02-23  07:24:57       Assault     New York    NY   \n",
       "996   997  2024-10-15  18:10:35  Drug Offense     San Jose    CA   \n",
       "997   998  2024-02-08  04:00:11       Assault      Houston    TX   \n",
       "998   999  2023-01-18  16:52:36      Homicide      Chicago    IL   \n",
       "999  1000  2022-07-19  01:28:45      Homicide  Los Angeles    CA   \n",
       "\n",
       "    location_description  victim_age victim_gender victim_race  \n",
       "995          2793 Oak St          72        Female       Asian  \n",
       "996          2798 Elm St          26          Male       Other  \n",
       "997         8950 Pine St          34    Non-binary    Hispanic  \n",
       "998          4673 Oak St          16         Other    Hispanic  \n",
       "999          5226 Oak St          54          Male       White  "
      ]
     },
     "execution_count": 16,
     "metadata": {},
     "output_type": "execute_result"
    }
   ],
   "source": [
    "df.tail()"
   ]
  },
  {
   "cell_type": "code",
   "execution_count": 19,
   "id": "481ca2f4-d500-4cdc-b25f-3c0790a39e9d",
   "metadata": {},
   "outputs": [
    {
     "data": {
      "text/plain": [
       "(1000, 10)"
      ]
     },
     "execution_count": 19,
     "metadata": {},
     "output_type": "execute_result"
    }
   ],
   "source": [
    "df.shape"
   ]
  },
  {
   "cell_type": "code",
   "execution_count": 20,
   "id": "b11767b2-7ff6-4562-959f-90d77e931830",
   "metadata": {},
   "outputs": [
    {
     "data": {
      "text/plain": [
       "Index(['id', 'date', 'time', 'crime_type', 'city', 'state',\n",
       "       'location_description', 'victim_age', 'victim_gender', 'victim_race'],\n",
       "      dtype='object')"
      ]
     },
     "execution_count": 20,
     "metadata": {},
     "output_type": "execute_result"
    }
   ],
   "source": [
    "df.columns"
   ]
  },
  {
   "cell_type": "code",
   "execution_count": 18,
   "id": "6e015d79-6283-4807-a5a8-d3a279baf068",
   "metadata": {},
   "outputs": [
    {
     "name": "stdout",
     "output_type": "stream",
     "text": [
      "<class 'pandas.core.frame.DataFrame'>\n",
      "RangeIndex: 1000 entries, 0 to 999\n",
      "Data columns (total 10 columns):\n",
      " #   Column                Non-Null Count  Dtype \n",
      "---  ------                --------------  ----- \n",
      " 0   id                    1000 non-null   int64 \n",
      " 1   date                  1000 non-null   object\n",
      " 2   time                  1000 non-null   object\n",
      " 3   crime_type            1000 non-null   object\n",
      " 4   city                  1000 non-null   object\n",
      " 5   state                 1000 non-null   object\n",
      " 6   location_description  1000 non-null   object\n",
      " 7   victim_age            1000 non-null   int64 \n",
      " 8   victim_gender         1000 non-null   object\n",
      " 9   victim_race           1000 non-null   object\n",
      "dtypes: int64(2), object(8)\n",
      "memory usage: 78.3+ KB\n"
     ]
    }
   ],
   "source": [
    "df.info()"
   ]
  },
  {
   "cell_type": "code",
   "execution_count": 26,
   "id": "f9a82a60-8a2f-4cc9-9dae-5eb11d71b2a2",
   "metadata": {},
   "outputs": [
    {
     "data": {
      "image/png": "[encoded data removed]",
      "text/plain": [
       "<Figure size 2500x1000 with 2 Axes>"
      ]
     },
     "metadata": {},
     "output_type": "display_data"
    }
   ],
   "source": [
    "msno.matrix(df)\n",
    "plt.title(\"Mising Data Visualization\")\n",
    "plt.show()"
   ]
  },
  {
   "cell_type": "code",
   "execution_count": null,
   "id": "4e557e32-6126-4904-93d0-fa2cf7caea6f",
   "metadata": {},
   "outputs": [],
   "source": []
  }
 ],
 "metadata": {
  "kernelspec": {
   "display_name": "Python 3 (ipykernel)",
   "language": "python",
   "name": "python3"
  },
  "language_info": {
   "codemirror_mode": {
    "name": "ipython",
    "version": 3
   },
   "file_extension": ".py",
   "mimetype": "text/x-python",
   "name": "python",
   "nbconvert_exporter": "python",
   "pygments_lexer": "ipython3",
   "version": "3.13.1"
  }
 },
 "nbformat": 4,
 "nbformat_minor": 5
}
