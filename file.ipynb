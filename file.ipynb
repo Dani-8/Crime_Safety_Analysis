{
 "cells": [
  {
   "cell_type": "code",
   "execution_count": 1,
   "id": "bcb9726e-629f-4a96-acf6-07ff3c40afc0",
   "metadata": {},
   "outputs": [],
   "source": [
    "import numpy as np\n",
    "import pandas as pd\n",
    "import seaborn as sns\n",
    "import matplotlib.pyplot as plt\n",
    "\n",
    "import warnings\n",
    "warnings.filterwarnings(\"ignore\")\n",
    "\n",
    "from sklearn.preprocessing import LabelEncoder, StandardScaler\n",
    "from sklearn.model_selection import train_test_split\n",
    "from sklearn.neighbors import KNeighborsClassifier\n",
    "from sklearn.cluster import KMeans\n",
    "from sklearn.decomposition import PCA\n",
    "from sklearn.metrics import classification_report, confusion_matrix"
   ]
  },
  {
   "cell_type": "code",
   "execution_count": 2,
   "id": "886d362e-6821-4136-8de7-31f14080bde6",
   "metadata": {},
   "outputs": [
    {
     "data": {
      "text/html": [
       "<div>\n",
       "<style scoped>\n",
       "    .dataframe tbody tr th:only-of-type {\n",
       "        vertical-align: middle;\n",
       "    }\n",
       "\n",
       "    .dataframe tbody tr th {\n",
       "        vertical-align: top;\n",
       "    }\n",
       "\n",
       "    .dataframe thead th {\n",
       "        text-align: right;\n",
       "    }\n",
       "</style>\n",
       "<table border=\"1\" class=\"dataframe\">\n",
       "  <thead>\n",
       "    <tr style=\"text-align: right;\">\n",
       "      <th></th>\n",
       "      <th>id</th>\n",
       "      <th>date</th>\n",
       "      <th>time</th>\n",
       "      <th>crime_type</th>\n",
       "      <th>city</th>\n",
       "      <th>state</th>\n",
       "      <th>location_description</th>\n",
       "      <th>victim_age</th>\n",
       "      <th>victim_gender</th>\n",
       "      <th>victim_race</th>\n",
       "    </tr>\n",
       "  </thead>\n",
       "  <tbody>\n",
       "    <tr>\n",
       "      <th>0</th>\n",
       "      <td>1</td>\n",
       "      <td>2022-09-09</td>\n",
       "      <td>18:58:57</td>\n",
       "      <td>Homicide</td>\n",
       "      <td>Philadelphia</td>\n",
       "      <td>PA</td>\n",
       "      <td>9916 Broadway</td>\n",
       "      <td>34</td>\n",
       "      <td>Male</td>\n",
       "      <td>Other</td>\n",
       "    </tr>\n",
       "    <tr>\n",
       "      <th>1</th>\n",
       "      <td>2</td>\n",
       "      <td>2022-07-10</td>\n",
       "      <td>12:10:59</td>\n",
       "      <td>Assault</td>\n",
       "      <td>Phoenix</td>\n",
       "      <td>AZ</td>\n",
       "      <td>6853 Oak St</td>\n",
       "      <td>13</td>\n",
       "      <td>Female</td>\n",
       "      <td>Black</td>\n",
       "    </tr>\n",
       "    <tr>\n",
       "      <th>2</th>\n",
       "      <td>3</td>\n",
       "      <td>2024-12-31</td>\n",
       "      <td>09:26:12</td>\n",
       "      <td>Burglary</td>\n",
       "      <td>San Antonio</td>\n",
       "      <td>TX</td>\n",
       "      <td>3760 Maple Ave</td>\n",
       "      <td>23</td>\n",
       "      <td>Male</td>\n",
       "      <td>Asian</td>\n",
       "    </tr>\n",
       "    <tr>\n",
       "      <th>3</th>\n",
       "      <td>4</td>\n",
       "      <td>2024-04-12</td>\n",
       "      <td>23:17:28</td>\n",
       "      <td>Vandalism</td>\n",
       "      <td>Philadelphia</td>\n",
       "      <td>PA</td>\n",
       "      <td>6781 Main St</td>\n",
       "      <td>36</td>\n",
       "      <td>Other</td>\n",
       "      <td>Asian</td>\n",
       "    </tr>\n",
       "    <tr>\n",
       "      <th>4</th>\n",
       "      <td>5</td>\n",
       "      <td>2023-07-19</td>\n",
       "      <td>04:49:39</td>\n",
       "      <td>Fraud</td>\n",
       "      <td>San Antonio</td>\n",
       "      <td>TX</td>\n",
       "      <td>3239 Broadway</td>\n",
       "      <td>26</td>\n",
       "      <td>Other</td>\n",
       "      <td>Other</td>\n",
       "    </tr>\n",
       "  </tbody>\n",
       "</table>\n",
       "</div>"
      ],
      "text/plain": [
       "   id        date      time crime_type          city state location_description  victim_age victim_gender victim_race\n",
       "0   1  2022-09-09  18:58:57   Homicide  Philadelphia    PA        9916 Broadway          34          Male       Other\n",
       "1   2  2022-07-10  12:10:59    Assault       Phoenix    AZ          6853 Oak St          13        Female       Black\n",
       "2   3  2024-12-31  09:26:12   Burglary   San Antonio    TX       3760 Maple Ave          23          Male       Asian\n",
       "3   4  2024-04-12  23:17:28  Vandalism  Philadelphia    PA         6781 Main St          36         Other       Asian\n",
       "4   5  2023-07-19  04:49:39      Fraud   San Antonio    TX        3239 Broadway          26         Other       Other"
      ]
     },
     "execution_count": 2,
     "metadata": {},
     "output_type": "execute_result"
    }
   ],
   "source": [
    "df = pd.read_csv(\"crime_safety_dataset.csv\")\n",
    "df.head()"
   ]
  },
  {
   "cell_type": "code",
   "execution_count": 4,
   "id": "ccc2b307-a61f-4bb0-aa05-87fa7ba098d0",
   "metadata": {},
   "outputs": [
    {
     "data": {
      "text/plain": [
       "(1000, 10)"
      ]
     },
     "execution_count": 4,
     "metadata": {},
     "output_type": "execute_result"
    }
   ],
   "source": [
    "df.shape"
   ]
  },
  {
   "cell_type": "code",
   "execution_count": 5,
   "id": "82c74408-61b4-4263-9bde-ef247c19b135",
   "metadata": {},
   "outputs": [
    {
     "name": "stdout",
     "output_type": "stream",
     "text": [
      "<class 'pandas.core.frame.DataFrame'>\n",
      "RangeIndex: 1000 entries, 0 to 999\n",
      "Data columns (total 10 columns):\n",
      " #   Column                Non-Null Count  Dtype \n",
      "---  ------                --------------  ----- \n",
      " 0   id                    1000 non-null   int64 \n",
      " 1   date                  1000 non-null   object\n",
      " 2   time                  1000 non-null   object\n",
      " 3   crime_type            1000 non-null   object\n",
      " 4   city                  1000 non-null   object\n",
      " 5   state                 1000 non-null   object\n",
      " 6   location_description  1000 non-null   object\n",
      " 7   victim_age            1000 non-null   int64 \n",
      " 8   victim_gender         1000 non-null   object\n",
      " 9   victim_race           1000 non-null   object\n",
      "dtypes: int64(2), object(8)\n",
      "memory usage: 78.3+ KB\n"
     ]
    }
   ],
   "source": [
    "df.info()"
   ]
  },
  {
   "cell_type": "code",
   "execution_count": 14,
   "id": "a29351d8-006e-4286-b337-802571ff2d79",
   "metadata": {},
   "outputs": [
    {
     "data": {
      "text/plain": [
       "id                      0\n",
       "date                    0\n",
       "time                    0\n",
       "crime_type              0\n",
       "city                    0\n",
       "state                   0\n",
       "location_description    0\n",
       "victim_age              0\n",
       "victim_gender           0\n",
       "victim_race             0\n",
       "dtype: int64"
      ]
     },
     "execution_count": 14,
     "metadata": {},
     "output_type": "execute_result"
    }
   ],
   "source": [
    "df.isnull().sum()"
   ]
  },
  {
   "cell_type": "code",
   "execution_count": null,
   "id": "8bbddea7-7143-48ca-b06a-b34f97d85320",
   "metadata": {},
   "outputs": [],
   "source": []
  }
 ],
 "metadata": {
  "kernelspec": {
   "display_name": "Python 3 (ipykernel)",
   "language": "python",
   "name": "python3"
  },
  "language_info": {
   "codemirror_mode": {
    "name": "ipython",
    "version": 3
   },
   "file_extension": ".py",
   "mimetype": "text/x-python",
   "name": "python",
   "nbconvert_exporter": "python",
   "pygments_lexer": "ipython3",
   "version": "3.13.1"
  }
 },
 "nbformat": 4,
 "nbformat_minor": 5
}
