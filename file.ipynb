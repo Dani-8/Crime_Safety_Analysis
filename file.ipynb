{
 "cells": [
  {
   "cell_type": "code",
   "execution_count": null,
   "id": "2e72c488-120a-4bc0-8b40-839da5d7e248",
   "metadata": {},
   "outputs": [],
   "source": [
    "import numpy as np\n",
    "import pandas as pd\n",
    "import seaborn as sns\n",
    "import matplotlib.pyplot as plt\n",
    "import missinno as msno\n",
    "\n",
    "import warnings\n"
   ]
  },
  {
   "cell_type": "code",
   "execution_count": 4,
   "id": "45b6741f-ee7d-41b3-b40a-72b51d946581",
   "metadata": {},
   "outputs": [
    {
     "name": "stdout",
     "output_type": "stream",
     "text": [
      "Requirement already satisfied: jupyter-tabnine in c:\\users\\lenovo\\appdata\\local\\programs\\python\\python313\\lib\\site-packages (1.2.3)\n",
      "Requirement already satisfied: ipython in c:\\users\\lenovo\\appdata\\local\\programs\\python\\python313\\lib\\site-packages (from jupyter-tabnine) (8.32.0)\n",
      "Requirement already satisfied: jupyter-core in c:\\users\\lenovo\\appdata\\local\\programs\\python\\python313\\lib\\site-packages (from jupyter-tabnine) (5.7.2)\n",
      "Requirement already satisfied: nbconvert in c:\\users\\lenovo\\appdata\\local\\programs\\python\\python313\\lib\\site-packages (from jupyter-tabnine) (7.16.6)\n",
      "Requirement already satisfied: notebook>=4.2 in c:\\users\\lenovo\\appdata\\local\\programs\\python\\python313\\lib\\site-packages (from jupyter-tabnine) (7.4.4)\n",
      "Requirement already satisfied: jupyter-server<3,>=2.4.0 in c:\\users\\lenovo\\appdata\\local\\programs\\python\\python313\\lib\\site-packages (from notebook>=4.2->jupyter-tabnine) (2.15.0)\n",
      "Requirement already satisfied: jupyterlab-server<3,>=2.27.1 in c:\\users\\lenovo\\appdata\\local\\programs\\python\\python313\\lib\\site-packages (from notebook>=4.2->jupyter-tabnine) (2.27.3)\n",
      "Requirement already satisfied: jupyterlab<4.5,>=4.4.4 in c:\\users\\lenovo\\appdata\\local\\programs\\python\\python313\\lib\\site-packages (from notebook>=4.2->jupyter-tabnine) (4.4.5)\n",
      "Requirement already satisfied: notebook-shim<0.3,>=0.2 in c:\\users\\lenovo\\appdata\\local\\programs\\python\\python313\\lib\\site-packages (from notebook>=4.2->jupyter-tabnine) (0.2.4)\n",
      "Requirement already satisfied: tornado>=6.2.0 in c:\\users\\lenovo\\appdata\\local\\programs\\python\\python313\\lib\\site-packages (from notebook>=4.2->jupyter-tabnine) (6.4.2)\n",
      "Requirement already satisfied: anyio>=3.1.0 in c:\\users\\lenovo\\appdata\\local\\programs\\python\\python313\\lib\\site-packages (from jupyter-server<3,>=2.4.0->notebook>=4.2->jupyter-tabnine) (4.8.0)\n",
      "Requirement already satisfied: argon2-cffi>=21.1 in c:\\users\\lenovo\\appdata\\local\\programs\\python\\python313\\lib\\site-packages (from jupyter-server<3,>=2.4.0->notebook>=4.2->jupyter-tabnine) (23.1.0)\n",
      "Requirement already satisfied: jinja2>=3.0.3 in c:\\users\\lenovo\\appdata\\local\\programs\\python\\python313\\lib\\site-packages (from jupyter-server<3,>=2.4.0->notebook>=4.2->jupyter-tabnine) (3.1.5)\n",
      "Requirement already satisfied: jupyter-client>=7.4.4 in c:\\users\\lenovo\\appdata\\local\\programs\\python\\python313\\lib\\site-packages (from jupyter-server<3,>=2.4.0->notebook>=4.2->jupyter-tabnine) (8.6.3)\n",
      "Requirement already satisfied: jupyter-events>=0.11.0 in c:\\users\\lenovo\\appdata\\local\\programs\\python\\python313\\lib\\site-packages (from jupyter-server<3,>=2.4.0->notebook>=4.2->jupyter-tabnine) (0.12.0)\n",
      "Requirement already satisfied: jupyter-server-terminals>=0.4.4 in c:\\users\\lenovo\\appdata\\local\\programs\\python\\python313\\lib\\site-packages (from jupyter-server<3,>=2.4.0->notebook>=4.2->jupyter-tabnine) (0.5.3)\n",
      "Requirement already satisfied: nbformat>=5.3.0 in c:\\users\\lenovo\\appdata\\local\\programs\\python\\python313\\lib\\site-packages (from jupyter-server<3,>=2.4.0->notebook>=4.2->jupyter-tabnine) (5.10.4)\n",
      "Requirement already satisfied: overrides>=5.0 in c:\\users\\lenovo\\appdata\\local\\programs\\python\\python313\\lib\\site-packages (from jupyter-server<3,>=2.4.0->notebook>=4.2->jupyter-tabnine) (7.7.0)\n",
      "Requirement already satisfied: packaging>=22.0 in c:\\users\\lenovo\\appdata\\local\\programs\\python\\python313\\lib\\site-packages (from jupyter-server<3,>=2.4.0->notebook>=4.2->jupyter-tabnine) (24.2)\n",
      "Requirement already satisfied: prometheus-client>=0.9 in c:\\users\\lenovo\\appdata\\local\\programs\\python\\python313\\lib\\site-packages (from jupyter-server<3,>=2.4.0->notebook>=4.2->jupyter-tabnine) (0.21.1)\n",
      "Requirement already satisfied: pywinpty>=2.0.1 in c:\\users\\lenovo\\appdata\\local\\programs\\python\\python313\\lib\\site-packages (from jupyter-server<3,>=2.4.0->notebook>=4.2->jupyter-tabnine) (2.0.15)\n",
      "Requirement already satisfied: pyzmq>=24 in c:\\users\\lenovo\\appdata\\local\\programs\\python\\python313\\lib\\site-packages (from jupyter-server<3,>=2.4.0->notebook>=4.2->jupyter-tabnine) (26.2.1)\n",
      "Requirement already satisfied: send2trash>=1.8.2 in c:\\users\\lenovo\\appdata\\local\\programs\\python\\python313\\lib\\site-packages (from jupyter-server<3,>=2.4.0->notebook>=4.2->jupyter-tabnine) (1.8.3)\n",
      "Requirement already satisfied: terminado>=0.8.3 in c:\\users\\lenovo\\appdata\\local\\programs\\python\\python313\\lib\\site-packages (from jupyter-server<3,>=2.4.0->notebook>=4.2->jupyter-tabnine) (0.18.1)\n",
      "Requirement already satisfied: traitlets>=5.6.0 in c:\\users\\lenovo\\appdata\\local\\programs\\python\\python313\\lib\\site-packages (from jupyter-server<3,>=2.4.0->notebook>=4.2->jupyter-tabnine) (5.14.3)\n",
      "Requirement already satisfied: websocket-client>=1.7 in c:\\users\\lenovo\\appdata\\local\\programs\\python\\python313\\lib\\site-packages (from jupyter-server<3,>=2.4.0->notebook>=4.2->jupyter-tabnine) (1.8.0)\n",
      "Requirement already satisfied: async-lru>=1.0.0 in c:\\users\\lenovo\\appdata\\local\\programs\\python\\python313\\lib\\site-packages (from jupyterlab<4.5,>=4.4.4->notebook>=4.2->jupyter-tabnine) (2.0.4)\n",
      "Requirement already satisfied: httpx>=0.25.0 in c:\\users\\lenovo\\appdata\\local\\programs\\python\\python313\\lib\\site-packages (from jupyterlab<4.5,>=4.4.4->notebook>=4.2->jupyter-tabnine) (0.28.1)\n",
      "Requirement already satisfied: ipykernel>=6.5.0 in c:\\users\\lenovo\\appdata\\local\\programs\\python\\python313\\lib\\site-packages (from jupyterlab<4.5,>=4.4.4->notebook>=4.2->jupyter-tabnine) (6.29.5)\n",
      "Requirement already satisfied: jupyter-lsp>=2.0.0 in c:\\users\\lenovo\\appdata\\local\\programs\\python\\python313\\lib\\site-packages (from jupyterlab<4.5,>=4.4.4->notebook>=4.2->jupyter-tabnine) (2.2.5)\n",
      "Requirement already satisfied: setuptools>=41.1.0 in c:\\users\\lenovo\\appdata\\local\\programs\\python\\python313\\lib\\site-packages (from jupyterlab<4.5,>=4.4.4->notebook>=4.2->jupyter-tabnine) (75.8.0)\n",
      "Requirement already satisfied: babel>=2.10 in c:\\users\\lenovo\\appdata\\local\\programs\\python\\python313\\lib\\site-packages (from jupyterlab-server<3,>=2.27.1->notebook>=4.2->jupyter-tabnine) (2.17.0)\n",
      "Requirement already satisfied: json5>=0.9.0 in c:\\users\\lenovo\\appdata\\local\\programs\\python\\python313\\lib\\site-packages (from jupyterlab-server<3,>=2.27.1->notebook>=4.2->jupyter-tabnine) (0.10.0)\n",
      "Requirement already satisfied: jsonschema>=4.18.0 in c:\\users\\lenovo\\appdata\\local\\programs\\python\\python313\\lib\\site-packages (from jupyterlab-server<3,>=2.27.1->notebook>=4.2->jupyter-tabnine) (4.23.0)\n",
      "Requirement already satisfied: requests>=2.31 in c:\\users\\lenovo\\appdata\\local\\programs\\python\\python313\\lib\\site-packages (from jupyterlab-server<3,>=2.27.1->notebook>=4.2->jupyter-tabnine) (2.32.3)\n",
      "Requirement already satisfied: idna>=2.8 in c:\\users\\lenovo\\appdata\\local\\programs\\python\\python313\\lib\\site-packages (from anyio>=3.1.0->jupyter-server<3,>=2.4.0->notebook>=4.2->jupyter-tabnine) (3.10)\n",
      "Requirement already satisfied: sniffio>=1.1 in c:\\users\\lenovo\\appdata\\local\\programs\\python\\python313\\lib\\site-packages (from anyio>=3.1.0->jupyter-server<3,>=2.4.0->notebook>=4.2->jupyter-tabnine) (1.3.1)\n",
      "Requirement already satisfied: argon2-cffi-bindings in c:\\users\\lenovo\\appdata\\local\\programs\\python\\python313\\lib\\site-packages (from argon2-cffi>=21.1->jupyter-server<3,>=2.4.0->notebook>=4.2->jupyter-tabnine) (21.2.0)\n",
      "Requirement already satisfied: certifi in c:\\users\\lenovo\\appdata\\local\\programs\\python\\python313\\lib\\site-packages (from httpx>=0.25.0->jupyterlab<4.5,>=4.4.4->notebook>=4.2->jupyter-tabnine) (2024.12.14)\n",
      "Requirement already satisfied: httpcore==1.* in c:\\users\\lenovo\\appdata\\local\\programs\\python\\python313\\lib\\site-packages (from httpx>=0.25.0->jupyterlab<4.5,>=4.4.4->notebook>=4.2->jupyter-tabnine) (1.0.7)\n",
      "Requirement already satisfied: h11<0.15,>=0.13 in c:\\users\\lenovo\\appdata\\local\\programs\\python\\python313\\lib\\site-packages (from httpcore==1.*->httpx>=0.25.0->jupyterlab<4.5,>=4.4.4->notebook>=4.2->jupyter-tabnine) (0.14.0)\n",
      "Requirement already satisfied: comm>=0.1.1 in c:\\users\\lenovo\\appdata\\local\\programs\\python\\python313\\lib\\site-packages (from ipykernel>=6.5.0->jupyterlab<4.5,>=4.4.4->notebook>=4.2->jupyter-tabnine) (0.2.2)\n",
      "Requirement already satisfied: debugpy>=1.6.5 in c:\\users\\lenovo\\appdata\\local\\programs\\python\\python313\\lib\\site-packages (from ipykernel>=6.5.0->jupyterlab<4.5,>=4.4.4->notebook>=4.2->jupyter-tabnine) (1.8.12)\n",
      "Requirement already satisfied: matplotlib-inline>=0.1 in c:\\users\\lenovo\\appdata\\local\\programs\\python\\python313\\lib\\site-packages (from ipykernel>=6.5.0->jupyterlab<4.5,>=4.4.4->notebook>=4.2->jupyter-tabnine) (0.1.7)\n",
      "Requirement already satisfied: nest-asyncio in c:\\users\\lenovo\\appdata\\local\\programs\\python\\python313\\lib\\site-packages (from ipykernel>=6.5.0->jupyterlab<4.5,>=4.4.4->notebook>=4.2->jupyter-tabnine) (1.6.0)\n",
      "Requirement already satisfied: psutil in c:\\users\\lenovo\\appdata\\local\\programs\\python\\python313\\lib\\site-packages (from ipykernel>=6.5.0->jupyterlab<4.5,>=4.4.4->notebook>=4.2->jupyter-tabnine) (7.0.0)\n",
      "Requirement already satisfied: colorama in c:\\users\\lenovo\\appdata\\local\\programs\\python\\python313\\lib\\site-packages (from ipython->jupyter-tabnine) (0.4.6)\n",
      "Requirement already satisfied: decorator in c:\\users\\lenovo\\appdata\\local\\programs\\python\\python313\\lib\\site-packages (from ipython->jupyter-tabnine) (5.2.1)\n",
      "Requirement already satisfied: jedi>=0.16 in c:\\users\\lenovo\\appdata\\local\\programs\\python\\python313\\lib\\site-packages (from ipython->jupyter-tabnine) (0.19.2)\n",
      "Requirement already satisfied: prompt_toolkit<3.1.0,>=3.0.41 in c:\\users\\lenovo\\appdata\\local\\programs\\python\\python313\\lib\\site-packages (from ipython->jupyter-tabnine) (3.0.50)\n",
      "Requirement already satisfied: pygments>=2.4.0 in c:\\users\\lenovo\\appdata\\local\\programs\\python\\python313\\lib\\site-packages (from ipython->jupyter-tabnine) (2.19.1)\n",
      "Requirement already satisfied: stack_data in c:\\users\\lenovo\\appdata\\local\\programs\\python\\python313\\lib\\site-packages (from ipython->jupyter-tabnine) (0.6.3)\n",
      "Requirement already satisfied: wcwidth in c:\\users\\lenovo\\appdata\\local\\programs\\python\\python313\\lib\\site-packages (from prompt_toolkit<3.1.0,>=3.0.41->ipython->jupyter-tabnine) (0.2.13)\n",
      "Requirement already satisfied: parso<0.9.0,>=0.8.4 in c:\\users\\lenovo\\appdata\\local\\programs\\python\\python313\\lib\\site-packages (from jedi>=0.16->ipython->jupyter-tabnine) (0.8.4)\n",
      "Requirement already satisfied: MarkupSafe>=2.0 in c:\\users\\lenovo\\appdata\\local\\programs\\python\\python313\\lib\\site-packages (from jinja2>=3.0.3->jupyter-server<3,>=2.4.0->notebook>=4.2->jupyter-tabnine) (3.0.2)\n",
      "Requirement already satisfied: attrs>=22.2.0 in c:\\users\\lenovo\\appdata\\local\\programs\\python\\python313\\lib\\site-packages (from jsonschema>=4.18.0->jupyterlab-server<3,>=2.27.1->notebook>=4.2->jupyter-tabnine) (24.3.0)\n",
      "Requirement already satisfied: jsonschema-specifications>=2023.03.6 in c:\\users\\lenovo\\appdata\\local\\programs\\python\\python313\\lib\\site-packages (from jsonschema>=4.18.0->jupyterlab-server<3,>=2.27.1->notebook>=4.2->jupyter-tabnine) (2024.10.1)\n",
      "Requirement already satisfied: referencing>=0.28.4 in c:\\users\\lenovo\\appdata\\local\\programs\\python\\python313\\lib\\site-packages (from jsonschema>=4.18.0->jupyterlab-server<3,>=2.27.1->notebook>=4.2->jupyter-tabnine) (0.36.0)\n",
      "Requirement already satisfied: rpds-py>=0.7.1 in c:\\users\\lenovo\\appdata\\local\\programs\\python\\python313\\lib\\site-packages (from jsonschema>=4.18.0->jupyterlab-server<3,>=2.27.1->notebook>=4.2->jupyter-tabnine) (0.22.3)\n",
      "Requirement already satisfied: python-dateutil>=2.8.2 in c:\\users\\lenovo\\appdata\\local\\programs\\python\\python313\\lib\\site-packages (from jupyter-client>=7.4.4->jupyter-server<3,>=2.4.0->notebook>=4.2->jupyter-tabnine) (2.9.0.post0)\n",
      "Requirement already satisfied: platformdirs>=2.5 in c:\\users\\lenovo\\appdata\\local\\programs\\python\\python313\\lib\\site-packages (from jupyter-core->jupyter-tabnine) (4.3.6)\n",
      "Requirement already satisfied: pywin32>=300 in c:\\users\\lenovo\\appdata\\local\\programs\\python\\python313\\lib\\site-packages (from jupyter-core->jupyter-tabnine) (308)\n",
      "Requirement already satisfied: python-json-logger>=2.0.4 in c:\\users\\lenovo\\appdata\\local\\programs\\python\\python313\\lib\\site-packages (from jupyter-events>=0.11.0->jupyter-server<3,>=2.4.0->notebook>=4.2->jupyter-tabnine) (3.2.1)\n",
      "Requirement already satisfied: pyyaml>=5.3 in c:\\users\\lenovo\\appdata\\local\\programs\\python\\python313\\lib\\site-packages (from jupyter-events>=0.11.0->jupyter-server<3,>=2.4.0->notebook>=4.2->jupyter-tabnine) (6.0.2)\n",
      "Requirement already satisfied: rfc3339-validator in c:\\users\\lenovo\\appdata\\local\\programs\\python\\python313\\lib\\site-packages (from jupyter-events>=0.11.0->jupyter-server<3,>=2.4.0->notebook>=4.2->jupyter-tabnine) (0.1.4)\n",
      "Requirement already satisfied: rfc3986-validator>=0.1.1 in c:\\users\\lenovo\\appdata\\local\\programs\\python\\python313\\lib\\site-packages (from jupyter-events>=0.11.0->jupyter-server<3,>=2.4.0->notebook>=4.2->jupyter-tabnine) (0.1.1)\n",
      "Requirement already satisfied: fqdn in c:\\users\\lenovo\\appdata\\local\\programs\\python\\python313\\lib\\site-packages (from jsonschema[format-nongpl]>=4.18.0->jupyter-events>=0.11.0->jupyter-server<3,>=2.4.0->notebook>=4.2->jupyter-tabnine) (1.5.1)\n",
      "Requirement already satisfied: isoduration in c:\\users\\lenovo\\appdata\\local\\programs\\python\\python313\\lib\\site-packages (from jsonschema[format-nongpl]>=4.18.0->jupyter-events>=0.11.0->jupyter-server<3,>=2.4.0->notebook>=4.2->jupyter-tabnine) (20.11.0)\n",
      "Requirement already satisfied: jsonpointer>1.13 in c:\\users\\lenovo\\appdata\\local\\programs\\python\\python313\\lib\\site-packages (from jsonschema[format-nongpl]>=4.18.0->jupyter-events>=0.11.0->jupyter-server<3,>=2.4.0->notebook>=4.2->jupyter-tabnine) (3.0.0)\n",
      "Requirement already satisfied: uri-template in c:\\users\\lenovo\\appdata\\local\\programs\\python\\python313\\lib\\site-packages (from jsonschema[format-nongpl]>=4.18.0->jupyter-events>=0.11.0->jupyter-server<3,>=2.4.0->notebook>=4.2->jupyter-tabnine) (1.3.0)\n",
      "Requirement already satisfied: webcolors>=24.6.0 in c:\\users\\lenovo\\appdata\\local\\programs\\python\\python313\\lib\\site-packages (from jsonschema[format-nongpl]>=4.18.0->jupyter-events>=0.11.0->jupyter-server<3,>=2.4.0->notebook>=4.2->jupyter-tabnine) (24.11.1)\n",
      "Requirement already satisfied: beautifulsoup4 in c:\\users\\lenovo\\appdata\\local\\programs\\python\\python313\\lib\\site-packages (from nbconvert->jupyter-tabnine) (4.13.3)\n",
      "Requirement already satisfied: bleach!=5.0.0 in c:\\users\\lenovo\\appdata\\local\\programs\\python\\python313\\lib\\site-packages (from bleach[css]!=5.0.0->nbconvert->jupyter-tabnine) (6.2.0)\n",
      "Requirement already satisfied: defusedxml in c:\\users\\lenovo\\appdata\\local\\programs\\python\\python313\\lib\\site-packages (from nbconvert->jupyter-tabnine) (0.7.1)\n",
      "Requirement already satisfied: jupyterlab-pygments in c:\\users\\lenovo\\appdata\\local\\programs\\python\\python313\\lib\\site-packages (from nbconvert->jupyter-tabnine) (0.3.0)\n",
      "Requirement already satisfied: mistune<4,>=2.0.3 in c:\\users\\lenovo\\appdata\\local\\programs\\python\\python313\\lib\\site-packages (from nbconvert->jupyter-tabnine) (3.1.2)\n",
      "Requirement already satisfied: nbclient>=0.5.0 in c:\\users\\lenovo\\appdata\\local\\programs\\python\\python313\\lib\\site-packages (from nbconvert->jupyter-tabnine) (0.10.2)\n",
      "Requirement already satisfied: pandocfilters>=1.4.1 in c:\\users\\lenovo\\appdata\\local\\programs\\python\\python313\\lib\\site-packages (from nbconvert->jupyter-tabnine) (1.5.1)\n",
      "Requirement already satisfied: webencodings in c:\\users\\lenovo\\appdata\\local\\programs\\python\\python313\\lib\\site-packages (from bleach!=5.0.0->bleach[css]!=5.0.0->nbconvert->jupyter-tabnine) (0.5.1)\n",
      "Requirement already satisfied: tinycss2<1.5,>=1.1.0 in c:\\users\\lenovo\\appdata\\local\\programs\\python\\python313\\lib\\site-packages (from bleach[css]!=5.0.0->nbconvert->jupyter-tabnine) (1.4.0)\n",
      "Requirement already satisfied: fastjsonschema>=2.15 in c:\\users\\lenovo\\appdata\\local\\programs\\python\\python313\\lib\\site-packages (from nbformat>=5.3.0->jupyter-server<3,>=2.4.0->notebook>=4.2->jupyter-tabnine) (2.21.1)\n",
      "Requirement already satisfied: six>=1.5 in c:\\users\\lenovo\\appdata\\local\\programs\\python\\python313\\lib\\site-packages (from python-dateutil>=2.8.2->jupyter-client>=7.4.4->jupyter-server<3,>=2.4.0->notebook>=4.2->jupyter-tabnine) (1.17.0)\n",
      "Requirement already satisfied: charset-normalizer<4,>=2 in c:\\users\\lenovo\\appdata\\local\\programs\\python\\python313\\lib\\site-packages (from requests>=2.31->jupyterlab-server<3,>=2.27.1->notebook>=4.2->jupyter-tabnine) (3.4.1)\n",
      "Requirement already satisfied: urllib3<3,>=1.21.1 in c:\\users\\lenovo\\appdata\\local\\programs\\python\\python313\\lib\\site-packages (from requests>=2.31->jupyterlab-server<3,>=2.27.1->notebook>=4.2->jupyter-tabnine) (2.3.0)\n",
      "Requirement already satisfied: cffi>=1.0.1 in c:\\users\\lenovo\\appdata\\local\\programs\\python\\python313\\lib\\site-packages (from argon2-cffi-bindings->argon2-cffi>=21.1->jupyter-server<3,>=2.4.0->notebook>=4.2->jupyter-tabnine) (1.17.1)\n",
      "Requirement already satisfied: pycparser in c:\\users\\lenovo\\appdata\\local\\programs\\python\\python313\\lib\\site-packages (from cffi>=1.0.1->argon2-cffi-bindings->argon2-cffi>=21.1->jupyter-server<3,>=2.4.0->notebook>=4.2->jupyter-tabnine) (2.22)\n",
      "Requirement already satisfied: soupsieve>1.2 in c:\\users\\lenovo\\appdata\\local\\programs\\python\\python313\\lib\\site-packages (from beautifulsoup4->nbconvert->jupyter-tabnine) (2.6)\n",
      "Requirement already satisfied: typing-extensions>=4.0.0 in c:\\users\\lenovo\\appdata\\local\\programs\\python\\python313\\lib\\site-packages (from beautifulsoup4->nbconvert->jupyter-tabnine) (4.12.2)\n",
      "Requirement already satisfied: arrow>=0.15.0 in c:\\users\\lenovo\\appdata\\local\\programs\\python\\python313\\lib\\site-packages (from isoduration->jsonschema[format-nongpl]>=4.18.0->jupyter-events>=0.11.0->jupyter-server<3,>=2.4.0->notebook>=4.2->jupyter-tabnine) (1.3.0)\n",
      "Requirement already satisfied: types-python-dateutil>=2.8.10 in c:\\users\\lenovo\\appdata\\local\\programs\\python\\python313\\lib\\site-packages (from arrow>=0.15.0->isoduration->jsonschema[format-nongpl]>=4.18.0->jupyter-events>=0.11.0->jupyter-server<3,>=2.4.0->notebook>=4.2->jupyter-tabnine) (2.9.0.20241206)\n",
      "Requirement already satisfied: executing>=1.2.0 in c:\\users\\lenovo\\appdata\\local\\programs\\python\\python313\\lib\\site-packages (from stack_data->ipython->jupyter-tabnine) (2.2.0)\n",
      "Requirement already satisfied: asttokens>=2.1.0 in c:\\users\\lenovo\\appdata\\local\\programs\\python\\python313\\lib\\site-packages (from stack_data->ipython->jupyter-tabnine) (3.0.0)\n",
      "Requirement already satisfied: pure-eval in c:\\users\\lenovo\\appdata\\local\\programs\\python\\python313\\lib\\site-packages (from stack_data->ipython->jupyter-tabnine) (0.2.3)\n"
     ]
    },
    {
     "name": "stderr",
     "output_type": "stream",
     "text": [
      "WARNING: Ignoring invalid distribution ~otebook (C:\\Users\\lenovo\\AppData\\Local\\Programs\\Python\\Python313\\Lib\\site-packages)\n",
      "WARNING: Ignoring invalid distribution ~otebook (C:\\Users\\lenovo\\AppData\\Local\\Programs\\Python\\Python313\\Lib\\site-packages)\n",
      "WARNING: Ignoring invalid distribution ~otebook (C:\\Users\\lenovo\\AppData\\Local\\Programs\\Python\\Python313\\Lib\\site-packages)\n"
     ]
    }
   ],
   "source": [
    "!pip3 install jupyter-tabnine"
   ]
  },
  {
   "cell_type": "code",
   "execution_count": null,
   "id": "1db34dbd-786c-4e16-80d7-46f8a51e6207",
   "metadata": {},
   "outputs": [],
   "source": []
  },
  {
   "cell_type": "code",
   "execution_count": null,
   "id": "e7d2a01e-306e-432b-930e-71846980c28b",
   "metadata": {},
   "outputs": [],
   "source": []
  },
  {
   "cell_type": "code",
   "execution_count": null,
   "id": "46232e41-4cdc-4b8d-9027-10c67c8423b9",
   "metadata": {},
   "outputs": [],
   "source": []
  }
 ],
 "metadata": {
  "kernelspec": {
   "display_name": "Python 3 (ipykernel)",
   "language": "python",
   "name": "python3"
  },
  "language_info": {
   "codemirror_mode": {
    "name": "ipython",
    "version": 3
   },
   "file_extension": ".py",
   "mimetype": "text/x-python",
   "name": "python",
   "nbconvert_exporter": "python",
   "pygments_lexer": "ipython3",
   "version": "3.13.1"
  }
 },
 "nbformat": 4,
 "nbformat_minor": 5
}
