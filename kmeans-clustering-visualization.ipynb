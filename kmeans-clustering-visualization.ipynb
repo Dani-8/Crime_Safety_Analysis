{
 "cells": [
  {
   "cell_type": "code",
   "execution_count": 1,
   "id": "bb832d66",
   "metadata": {
    "_cell_guid": "b1076dfc-b9ad-4769-8c92-a6c4dae69d19",
    "_uuid": "8f2839f25d086af736a60e9eeb907d3b93b6e0e5",
    "execution": {
     "iopub.execute_input": "2025-07-30T07:02:15.632149Z",
     "iopub.status.busy": "2025-07-30T07:02:15.631824Z",
     "iopub.status.idle": "2025-07-30T07:02:20.617765Z",
     "shell.execute_reply": "2025-07-30T07:02:20.616624Z"
    },
    "papermill": {
     "duration": 4.994042,
     "end_time": "2025-07-30T07:02:20.619650",
     "exception": false,
     "start_time": "2025-07-30T07:02:15.625608",
     "status": "completed"
    },
    "tags": []
   },
   "outputs": [
    {
     "name": "stdout",
     "output_type": "stream",
     "text": [
      "/kaggle/input/crime-and-safety-dataset/crime_safety_dataset.csv\n"
     ]
    }
   ],
   "source": [
    "# This Python 3 environment comes with many helpful analytics libraries installed\n",
    "# It is defined by the kaggle/python Docker image: https://github.com/kaggle/docker-python\n",
    "# For example, here's several helpful packages to load\n",
    "\n",
    "import numpy as np # linear algebra\n",
    "import pandas as pd # data processing, CSV file I/O (e.g. pd.read_csv)\n",
    "import matplotlib.pyplot as plt\n",
    "import seaborn as sns\n",
    "\n",
    "from sklearn.preprocessing import LabelEncoder, StandardScaler\n",
    "from sklearn.model_selection import train_test_split\n",
    "from sklearn.neighbors import KNeighborsClassifier\n",
    "from sklearn.cluster import KMeans\n",
    "from sklearn.decomposition import PCA\n",
    "from sklearn.metrics import classification_report, confusion_matrix\n",
    "import warnings\n",
    "warnings.filterwarnings('ignore')\n",
    "# Input data files are available in the read-only \"../input/\" directory\n",
    "# For example, running this (by clicking run or pressing Shift+Enter) will list all files under the input directory\n",
    "\n",
    "import os\n",
    "for dirname, _, filenames in os.walk('/kaggle/input'):\n",
    "    for filename in filenames:\n",
    "        print(os.path.join(dirname, filename))\n",
    "\n",
    "# You can write up to 20GB to the current directory (/kaggle/working/) that gets preserved as output when you create a version using \"Save & Run All\" \n",
    "# You can also write temporary files to /kaggle/temp/, but they won't be saved outside of the current session"
   ]
  },
  {
   "cell_type": "code",
   "execution_count": 2,
   "id": "3af9c477",
   "metadata": {
    "execution": {
     "iopub.execute_input": "2025-07-30T07:02:20.629581Z",
     "iopub.status.busy": "2025-07-30T07:02:20.628999Z",
     "iopub.status.idle": "2025-07-30T07:02:20.678821Z",
     "shell.execute_reply": "2025-07-30T07:02:20.677900Z"
    },
    "papermill": {
     "duration": 0.056441,
     "end_time": "2025-07-30T07:02:20.680491",
     "exception": false,
     "start_time": "2025-07-30T07:02:20.624050",
     "status": "completed"
    },
    "tags": []
   },
   "outputs": [
    {
     "data": {
      "text/html": [
       "<div>\n",
       "<style scoped>\n",
       "    .dataframe tbody tr th:only-of-type {\n",
       "        vertical-align: middle;\n",
       "    }\n",
       "\n",
       "    .dataframe tbody tr th {\n",
       "        vertical-align: top;\n",
       "    }\n",
       "\n",
       "    .dataframe thead th {\n",
       "        text-align: right;\n",
       "    }\n",
       "</style>\n",
       "<table border=\"1\" class=\"dataframe\">\n",
       "  <thead>\n",
       "    <tr style=\"text-align: right;\">\n",
       "      <th></th>\n",
       "      <th>id</th>\n",
       "      <th>date</th>\n",
       "      <th>time</th>\n",
       "      <th>crime_type</th>\n",
       "      <th>city</th>\n",
       "      <th>state</th>\n",
       "      <th>location_description</th>\n",
       "      <th>victim_age</th>\n",
       "      <th>victim_gender</th>\n",
       "      <th>victim_race</th>\n",
       "    </tr>\n",
       "  </thead>\n",
       "  <tbody>\n",
       "    <tr>\n",
       "      <th>0</th>\n",
       "      <td>1</td>\n",
       "      <td>2022-09-09</td>\n",
       "      <td>18:58:57</td>\n",
       "      <td>Homicide</td>\n",
       "      <td>Philadelphia</td>\n",
       "      <td>PA</td>\n",
       "      <td>9916 Broadway</td>\n",
       "      <td>34</td>\n",
       "      <td>Male</td>\n",
       "      <td>Other</td>\n",
       "    </tr>\n",
       "    <tr>\n",
       "      <th>1</th>\n",
       "      <td>2</td>\n",
       "      <td>2022-07-10</td>\n",
       "      <td>12:10:59</td>\n",
       "      <td>Assault</td>\n",
       "      <td>Phoenix</td>\n",
       "      <td>AZ</td>\n",
       "      <td>6853 Oak St</td>\n",
       "      <td>13</td>\n",
       "      <td>Female</td>\n",
       "      <td>Black</td>\n",
       "    </tr>\n",
       "    <tr>\n",
       "      <th>2</th>\n",
       "      <td>3</td>\n",
       "      <td>2024-12-31</td>\n",
       "      <td>09:26:12</td>\n",
       "      <td>Burglary</td>\n",
       "      <td>San Antonio</td>\n",
       "      <td>TX</td>\n",
       "      <td>3760 Maple Ave</td>\n",
       "      <td>23</td>\n",
       "      <td>Male</td>\n",
       "      <td>Asian</td>\n",
       "    </tr>\n",
       "    <tr>\n",
       "      <th>3</th>\n",
       "      <td>4</td>\n",
       "      <td>2024-04-12</td>\n",
       "      <td>23:17:28</td>\n",
       "      <td>Vandalism</td>\n",
       "      <td>Philadelphia</td>\n",
       "      <td>PA</td>\n",
       "      <td>6781 Main St</td>\n",
       "      <td>36</td>\n",
       "      <td>Other</td>\n",
       "      <td>Asian</td>\n",
       "    </tr>\n",
       "    <tr>\n",
       "      <th>4</th>\n",
       "      <td>5</td>\n",
       "      <td>2023-07-19</td>\n",
       "      <td>04:49:39</td>\n",
       "      <td>Fraud</td>\n",
       "      <td>San Antonio</td>\n",
       "      <td>TX</td>\n",
       "      <td>3239 Broadway</td>\n",
       "      <td>26</td>\n",
       "      <td>Other</td>\n",
       "      <td>Other</td>\n",
       "    </tr>\n",
       "  </tbody>\n",
       "</table>\n",
       "</div>"
      ],
      "text/plain": [
       "   id        date      time crime_type          city state  \\\n",
       "0   1  2022-09-09  18:58:57   Homicide  Philadelphia    PA   \n",
       "1   2  2022-07-10  12:10:59    Assault       Phoenix    AZ   \n",
       "2   3  2024-12-31  09:26:12   Burglary   San Antonio    TX   \n",
       "3   4  2024-04-12  23:17:28  Vandalism  Philadelphia    PA   \n",
       "4   5  2023-07-19  04:49:39      Fraud   San Antonio    TX   \n",
       "\n",
       "  location_description  victim_age victim_gender victim_race  \n",
       "0        9916 Broadway          34          Male       Other  \n",
       "1          6853 Oak St          13        Female       Black  \n",
       "2       3760 Maple Ave          23          Male       Asian  \n",
       "3         6781 Main St          36         Other       Asian  \n",
       "4        3239 Broadway          26         Other       Other  "
      ]
     },
     "execution_count": 2,
     "metadata": {},
     "output_type": "execute_result"
    }
   ],
   "source": [
    "df = pd.read_csv(\"/kaggle/input/crime-and-safety-dataset/crime_safety_dataset.csv\")\n",
    "df.head()"
   ]
  },
  {
   "cell_type": "code",
   "execution_count": 3,
   "id": "d0fc1cee",
   "metadata": {
    "execution": {
     "iopub.execute_input": "2025-07-30T07:02:20.690630Z",
     "iopub.status.busy": "2025-07-30T07:02:20.690248Z",
     "iopub.status.idle": "2025-07-30T07:02:20.696113Z",
     "shell.execute_reply": "2025-07-30T07:02:20.695353Z"
    },
    "papermill": {
     "duration": 0.012651,
     "end_time": "2025-07-30T07:02:20.697599",
     "exception": false,
     "start_time": "2025-07-30T07:02:20.684948",
     "status": "completed"
    },
    "tags": []
   },
   "outputs": [
    {
     "data": {
      "text/plain": [
       "(1000, 10)"
      ]
     },
     "execution_count": 3,
     "metadata": {},
     "output_type": "execute_result"
    }
   ],
   "source": [
    "df.shape"
   ]
  },
  {
   "cell_type": "code",
   "execution_count": 4,
   "id": "13240859",
   "metadata": {
    "execution": {
     "iopub.execute_input": "2025-07-30T07:02:20.707488Z",
     "iopub.status.busy": "2025-07-30T07:02:20.707111Z",
     "iopub.status.idle": "2025-07-30T07:02:20.736118Z",
     "shell.execute_reply": "2025-07-30T07:02:20.734735Z"
    },
    "papermill": {
     "duration": 0.036005,
     "end_time": "2025-07-30T07:02:20.737853",
     "exception": false,
     "start_time": "2025-07-30T07:02:20.701848",
     "status": "completed"
    },
    "tags": []
   },
   "outputs": [
    {
     "name": "stdout",
     "output_type": "stream",
     "text": [
      "<class 'pandas.core.frame.DataFrame'>\n",
      "RangeIndex: 1000 entries, 0 to 999\n",
      "Data columns (total 10 columns):\n",
      " #   Column                Non-Null Count  Dtype \n",
      "---  ------                --------------  ----- \n",
      " 0   id                    1000 non-null   int64 \n",
      " 1   date                  1000 non-null   object\n",
      " 2   time                  1000 non-null   object\n",
      " 3   crime_type            1000 non-null   object\n",
      " 4   city                  1000 non-null   object\n",
      " 5   state                 1000 non-null   object\n",
      " 6   location_description  1000 non-null   object\n",
      " 7   victim_age            1000 non-null   int64 \n",
      " 8   victim_gender         1000 non-null   object\n",
      " 9   victim_race           1000 non-null   object\n",
      "dtypes: int64(2), object(8)\n",
      "memory usage: 78.3+ KB\n"
     ]
    }
   ],
   "source": [
    "df.info()\n"
   ]
  },
  {
   "cell_type": "code",
   "execution_count": 5,
   "id": "be50395c",
   "metadata": {
    "execution": {
     "iopub.execute_input": "2025-07-30T07:02:20.749027Z",
     "iopub.status.busy": "2025-07-30T07:02:20.748184Z",
     "iopub.status.idle": "2025-07-30T07:02:20.756046Z",
     "shell.execute_reply": "2025-07-30T07:02:20.755174Z"
    },
    "papermill": {
     "duration": 0.015228,
     "end_time": "2025-07-30T07:02:20.757802",
     "exception": false,
     "start_time": "2025-07-30T07:02:20.742574",
     "status": "completed"
    },
    "tags": []
   },
   "outputs": [
    {
     "data": {
      "text/plain": [
       "id                      0\n",
       "date                    0\n",
       "time                    0\n",
       "crime_type              0\n",
       "city                    0\n",
       "state                   0\n",
       "location_description    0\n",
       "victim_age              0\n",
       "victim_gender           0\n",
       "victim_race             0\n",
       "dtype: int64"
      ]
     },
     "execution_count": 5,
     "metadata": {},
     "output_type": "execute_result"
    }
   ],
   "source": [
    "df.isnull().sum()"
   ]
  },
  {
   "cell_type": "code",
   "execution_count": 6,
   "id": "fdccf641",
   "metadata": {
    "execution": {
     "iopub.execute_input": "2025-07-30T07:02:20.768437Z",
     "iopub.status.busy": "2025-07-30T07:02:20.767571Z",
     "iopub.status.idle": "2025-07-30T07:02:20.782716Z",
     "shell.execute_reply": "2025-07-30T07:02:20.781694Z"
    },
    "papermill": {
     "duration": 0.021904,
     "end_time": "2025-07-30T07:02:20.784214",
     "exception": false,
     "start_time": "2025-07-30T07:02:20.762310",
     "status": "completed"
    },
    "tags": []
   },
   "outputs": [],
   "source": [
    "df['datetime'] = pd.to_datetime(df['date'] + ' ' + df['time'])\n",
    "df['hour'] = df['datetime'].dt.hour\n",
    "df['dayofweek'] = df['datetime'].dt.dayofweek\n",
    "df['month'] = df['datetime'].dt.month\n",
    "df['year'] = df['datetime'].dt.year"
   ]
  },
  {
   "cell_type": "code",
   "execution_count": 7,
   "id": "427f37c0",
   "metadata": {
    "execution": {
     "iopub.execute_input": "2025-07-30T07:02:20.794685Z",
     "iopub.status.busy": "2025-07-30T07:02:20.793824Z",
     "iopub.status.idle": "2025-07-30T07:02:20.807226Z",
     "shell.execute_reply": "2025-07-30T07:02:20.806333Z"
    },
    "papermill": {
     "duration": 0.020142,
     "end_time": "2025-07-30T07:02:20.808806",
     "exception": false,
     "start_time": "2025-07-30T07:02:20.788664",
     "status": "completed"
    },
    "tags": []
   },
   "outputs": [
    {
     "data": {
      "text/html": [
       "<div>\n",
       "<style scoped>\n",
       "    .dataframe tbody tr th:only-of-type {\n",
       "        vertical-align: middle;\n",
       "    }\n",
       "\n",
       "    .dataframe tbody tr th {\n",
       "        vertical-align: top;\n",
       "    }\n",
       "\n",
       "    .dataframe thead th {\n",
       "        text-align: right;\n",
       "    }\n",
       "</style>\n",
       "<table border=\"1\" class=\"dataframe\">\n",
       "  <thead>\n",
       "    <tr style=\"text-align: right;\">\n",
       "      <th></th>\n",
       "      <th>id</th>\n",
       "      <th>date</th>\n",
       "      <th>time</th>\n",
       "      <th>crime_type</th>\n",
       "      <th>city</th>\n",
       "      <th>state</th>\n",
       "      <th>location_description</th>\n",
       "      <th>victim_age</th>\n",
       "      <th>victim_gender</th>\n",
       "      <th>victim_race</th>\n",
       "      <th>datetime</th>\n",
       "      <th>hour</th>\n",
       "      <th>dayofweek</th>\n",
       "      <th>month</th>\n",
       "      <th>year</th>\n",
       "    </tr>\n",
       "  </thead>\n",
       "  <tbody>\n",
       "    <tr>\n",
       "      <th>0</th>\n",
       "      <td>1</td>\n",
       "      <td>2022-09-09</td>\n",
       "      <td>18:58:57</td>\n",
       "      <td>Homicide</td>\n",
       "      <td>Philadelphia</td>\n",
       "      <td>PA</td>\n",
       "      <td>9916 Broadway</td>\n",
       "      <td>34</td>\n",
       "      <td>Male</td>\n",
       "      <td>Other</td>\n",
       "      <td>2022-09-09 18:58:57</td>\n",
       "      <td>18</td>\n",
       "      <td>4</td>\n",
       "      <td>9</td>\n",
       "      <td>2022</td>\n",
       "    </tr>\n",
       "    <tr>\n",
       "      <th>1</th>\n",
       "      <td>2</td>\n",
       "      <td>2022-07-10</td>\n",
       "      <td>12:10:59</td>\n",
       "      <td>Assault</td>\n",
       "      <td>Phoenix</td>\n",
       "      <td>AZ</td>\n",
       "      <td>6853 Oak St</td>\n",
       "      <td>13</td>\n",
       "      <td>Female</td>\n",
       "      <td>Black</td>\n",
       "      <td>2022-07-10 12:10:59</td>\n",
       "      <td>12</td>\n",
       "      <td>6</td>\n",
       "      <td>7</td>\n",
       "      <td>2022</td>\n",
       "    </tr>\n",
       "    <tr>\n",
       "      <th>2</th>\n",
       "      <td>3</td>\n",
       "      <td>2024-12-31</td>\n",
       "      <td>09:26:12</td>\n",
       "      <td>Burglary</td>\n",
       "      <td>San Antonio</td>\n",
       "      <td>TX</td>\n",
       "      <td>3760 Maple Ave</td>\n",
       "      <td>23</td>\n",
       "      <td>Male</td>\n",
       "      <td>Asian</td>\n",
       "      <td>2024-12-31 09:26:12</td>\n",
       "      <td>9</td>\n",
       "      <td>1</td>\n",
       "      <td>12</td>\n",
       "      <td>2024</td>\n",
       "    </tr>\n",
       "    <tr>\n",
       "      <th>3</th>\n",
       "      <td>4</td>\n",
       "      <td>2024-04-12</td>\n",
       "      <td>23:17:28</td>\n",
       "      <td>Vandalism</td>\n",
       "      <td>Philadelphia</td>\n",
       "      <td>PA</td>\n",
       "      <td>6781 Main St</td>\n",
       "      <td>36</td>\n",
       "      <td>Other</td>\n",
       "      <td>Asian</td>\n",
       "      <td>2024-04-12 23:17:28</td>\n",
       "      <td>23</td>\n",
       "      <td>4</td>\n",
       "      <td>4</td>\n",
       "      <td>2024</td>\n",
       "    </tr>\n",
       "    <tr>\n",
       "      <th>4</th>\n",
       "      <td>5</td>\n",
       "      <td>2023-07-19</td>\n",
       "      <td>04:49:39</td>\n",
       "      <td>Fraud</td>\n",
       "      <td>San Antonio</td>\n",
       "      <td>TX</td>\n",
       "      <td>3239 Broadway</td>\n",
       "      <td>26</td>\n",
       "      <td>Other</td>\n",
       "      <td>Other</td>\n",
       "      <td>2023-07-19 04:49:39</td>\n",
       "      <td>4</td>\n",
       "      <td>2</td>\n",
       "      <td>7</td>\n",
       "      <td>2023</td>\n",
       "    </tr>\n",
       "  </tbody>\n",
       "</table>\n",
       "</div>"
      ],
      "text/plain": [
       "   id        date      time crime_type          city state  \\\n",
       "0   1  2022-09-09  18:58:57   Homicide  Philadelphia    PA   \n",
       "1   2  2022-07-10  12:10:59    Assault       Phoenix    AZ   \n",
       "2   3  2024-12-31  09:26:12   Burglary   San Antonio    TX   \n",
       "3   4  2024-04-12  23:17:28  Vandalism  Philadelphia    PA   \n",
       "4   5  2023-07-19  04:49:39      Fraud   San Antonio    TX   \n",
       "\n",
       "  location_description  victim_age victim_gender victim_race  \\\n",
       "0        9916 Broadway          34          Male       Other   \n",
       "1          6853 Oak St          13        Female       Black   \n",
       "2       3760 Maple Ave          23          Male       Asian   \n",
       "3         6781 Main St          36         Other       Asian   \n",
       "4        3239 Broadway          26         Other       Other   \n",
       "\n",
       "             datetime  hour  dayofweek  month  year  \n",
       "0 2022-09-09 18:58:57    18          4      9  2022  \n",
       "1 2022-07-10 12:10:59    12          6      7  2022  \n",
       "2 2024-12-31 09:26:12     9          1     12  2024  \n",
       "3 2024-04-12 23:17:28    23          4      4  2024  \n",
       "4 2023-07-19 04:49:39     4          2      7  2023  "
      ]
     },
     "execution_count": 7,
     "metadata": {},
     "output_type": "execute_result"
    }
   ],
   "source": [
    "df.head()"
   ]
  },
  {
   "cell_type": "code",
   "execution_count": 8,
   "id": "5d734b85",
   "metadata": {
    "execution": {
     "iopub.execute_input": "2025-07-30T07:02:20.819514Z",
     "iopub.status.busy": "2025-07-30T07:02:20.818805Z",
     "iopub.status.idle": "2025-07-30T07:02:20.827959Z",
     "shell.execute_reply": "2025-07-30T07:02:20.826987Z"
    },
    "papermill": {
     "duration": 0.016165,
     "end_time": "2025-07-30T07:02:20.829619",
     "exception": false,
     "start_time": "2025-07-30T07:02:20.813454",
     "status": "completed"
    },
    "tags": []
   },
   "outputs": [],
   "source": [
    "df.drop(columns=['id', 'date', 'time', 'location_description', 'datetime'],inplace=True)"
   ]
  },
  {
   "cell_type": "code",
   "execution_count": 9,
   "id": "3a6c1f52",
   "metadata": {
    "execution": {
     "iopub.execute_input": "2025-07-30T07:02:20.840859Z",
     "iopub.status.busy": "2025-07-30T07:02:20.840515Z",
     "iopub.status.idle": "2025-07-30T07:02:20.852098Z",
     "shell.execute_reply": "2025-07-30T07:02:20.851202Z"
    },
    "papermill": {
     "duration": 0.018439,
     "end_time": "2025-07-30T07:02:20.853618",
     "exception": false,
     "start_time": "2025-07-30T07:02:20.835179",
     "status": "completed"
    },
    "tags": []
   },
   "outputs": [
    {
     "data": {
      "text/html": [
       "<div>\n",
       "<style scoped>\n",
       "    .dataframe tbody tr th:only-of-type {\n",
       "        vertical-align: middle;\n",
       "    }\n",
       "\n",
       "    .dataframe tbody tr th {\n",
       "        vertical-align: top;\n",
       "    }\n",
       "\n",
       "    .dataframe thead th {\n",
       "        text-align: right;\n",
       "    }\n",
       "</style>\n",
       "<table border=\"1\" class=\"dataframe\">\n",
       "  <thead>\n",
       "    <tr style=\"text-align: right;\">\n",
       "      <th></th>\n",
       "      <th>crime_type</th>\n",
       "      <th>city</th>\n",
       "      <th>state</th>\n",
       "      <th>victim_age</th>\n",
       "      <th>victim_gender</th>\n",
       "      <th>victim_race</th>\n",
       "      <th>hour</th>\n",
       "      <th>dayofweek</th>\n",
       "      <th>month</th>\n",
       "      <th>year</th>\n",
       "    </tr>\n",
       "  </thead>\n",
       "  <tbody>\n",
       "    <tr>\n",
       "      <th>0</th>\n",
       "      <td>Homicide</td>\n",
       "      <td>Philadelphia</td>\n",
       "      <td>PA</td>\n",
       "      <td>34</td>\n",
       "      <td>Male</td>\n",
       "      <td>Other</td>\n",
       "      <td>18</td>\n",
       "      <td>4</td>\n",
       "      <td>9</td>\n",
       "      <td>2022</td>\n",
       "    </tr>\n",
       "    <tr>\n",
       "      <th>1</th>\n",
       "      <td>Assault</td>\n",
       "      <td>Phoenix</td>\n",
       "      <td>AZ</td>\n",
       "      <td>13</td>\n",
       "      <td>Female</td>\n",
       "      <td>Black</td>\n",
       "      <td>12</td>\n",
       "      <td>6</td>\n",
       "      <td>7</td>\n",
       "      <td>2022</td>\n",
       "    </tr>\n",
       "    <tr>\n",
       "      <th>2</th>\n",
       "      <td>Burglary</td>\n",
       "      <td>San Antonio</td>\n",
       "      <td>TX</td>\n",
       "      <td>23</td>\n",
       "      <td>Male</td>\n",
       "      <td>Asian</td>\n",
       "      <td>9</td>\n",
       "      <td>1</td>\n",
       "      <td>12</td>\n",
       "      <td>2024</td>\n",
       "    </tr>\n",
       "    <tr>\n",
       "      <th>3</th>\n",
       "      <td>Vandalism</td>\n",
       "      <td>Philadelphia</td>\n",
       "      <td>PA</td>\n",
       "      <td>36</td>\n",
       "      <td>Other</td>\n",
       "      <td>Asian</td>\n",
       "      <td>23</td>\n",
       "      <td>4</td>\n",
       "      <td>4</td>\n",
       "      <td>2024</td>\n",
       "    </tr>\n",
       "    <tr>\n",
       "      <th>4</th>\n",
       "      <td>Fraud</td>\n",
       "      <td>San Antonio</td>\n",
       "      <td>TX</td>\n",
       "      <td>26</td>\n",
       "      <td>Other</td>\n",
       "      <td>Other</td>\n",
       "      <td>4</td>\n",
       "      <td>2</td>\n",
       "      <td>7</td>\n",
       "      <td>2023</td>\n",
       "    </tr>\n",
       "  </tbody>\n",
       "</table>\n",
       "</div>"
      ],
      "text/plain": [
       "  crime_type          city state  victim_age victim_gender victim_race  hour  \\\n",
       "0   Homicide  Philadelphia    PA          34          Male       Other    18   \n",
       "1    Assault       Phoenix    AZ          13        Female       Black    12   \n",
       "2   Burglary   San Antonio    TX          23          Male       Asian     9   \n",
       "3  Vandalism  Philadelphia    PA          36         Other       Asian    23   \n",
       "4      Fraud   San Antonio    TX          26         Other       Other     4   \n",
       "\n",
       "   dayofweek  month  year  \n",
       "0          4      9  2022  \n",
       "1          6      7  2022  \n",
       "2          1     12  2024  \n",
       "3          4      4  2024  \n",
       "4          2      7  2023  "
      ]
     },
     "execution_count": 9,
     "metadata": {},
     "output_type": "execute_result"
    }
   ],
   "source": [
    "df.head()"
   ]
  },
  {
   "cell_type": "code",
   "execution_count": 10,
   "id": "c707cfb6",
   "metadata": {
    "execution": {
     "iopub.execute_input": "2025-07-30T07:02:20.864398Z",
     "iopub.status.busy": "2025-07-30T07:02:20.863958Z",
     "iopub.status.idle": "2025-07-30T07:02:20.876584Z",
     "shell.execute_reply": "2025-07-30T07:02:20.875265Z"
    },
    "papermill": {
     "duration": 0.019765,
     "end_time": "2025-07-30T07:02:20.878167",
     "exception": false,
     "start_time": "2025-07-30T07:02:20.858402",
     "status": "completed"
    },
    "tags": []
   },
   "outputs": [
    {
     "name": "stdout",
     "output_type": "stream",
     "text": [
      "<class 'pandas.core.frame.DataFrame'>\n",
      "RangeIndex: 1000 entries, 0 to 999\n",
      "Data columns (total 10 columns):\n",
      " #   Column         Non-Null Count  Dtype \n",
      "---  ------         --------------  ----- \n",
      " 0   crime_type     1000 non-null   object\n",
      " 1   city           1000 non-null   object\n",
      " 2   state          1000 non-null   object\n",
      " 3   victim_age     1000 non-null   int64 \n",
      " 4   victim_gender  1000 non-null   object\n",
      " 5   victim_race    1000 non-null   object\n",
      " 6   hour           1000 non-null   int32 \n",
      " 7   dayofweek      1000 non-null   int32 \n",
      " 8   month          1000 non-null   int32 \n",
      " 9   year           1000 non-null   int32 \n",
      "dtypes: int32(4), int64(1), object(5)\n",
      "memory usage: 62.6+ KB\n"
     ]
    }
   ],
   "source": [
    "df.info()"
   ]
  },
  {
   "cell_type": "code",
   "execution_count": 11,
   "id": "5660b214",
   "metadata": {
    "execution": {
     "iopub.execute_input": "2025-07-30T07:02:20.888980Z",
     "iopub.status.busy": "2025-07-30T07:02:20.888653Z",
     "iopub.status.idle": "2025-07-30T07:02:20.897488Z",
     "shell.execute_reply": "2025-07-30T07:02:20.896383Z"
    },
    "papermill": {
     "duration": 0.016088,
     "end_time": "2025-07-30T07:02:20.899056",
     "exception": false,
     "start_time": "2025-07-30T07:02:20.882968",
     "status": "completed"
    },
    "tags": []
   },
   "outputs": [],
   "source": [
    "label_cols = ['crime_type', 'city', 'state', 'victim_gender', 'victim_race']\n",
    "le_dict = {}\n",
    "\n",
    "for col in label_cols:\n",
    "    le = LabelEncoder()\n",
    "    df[col] = le.fit_transform(df[col])\n",
    "    le_dict[col] = le "
   ]
  },
  {
   "cell_type": "code",
   "execution_count": 12,
   "id": "bfe009b3",
   "metadata": {
    "execution": {
     "iopub.execute_input": "2025-07-30T07:02:20.910037Z",
     "iopub.status.busy": "2025-07-30T07:02:20.909710Z",
     "iopub.status.idle": "2025-07-30T07:02:20.915475Z",
     "shell.execute_reply": "2025-07-30T07:02:20.914328Z"
    },
    "papermill": {
     "duration": 0.01308,
     "end_time": "2025-07-30T07:02:20.916945",
     "exception": false,
     "start_time": "2025-07-30T07:02:20.903865",
     "status": "completed"
    },
    "tags": []
   },
   "outputs": [
    {
     "name": "stdout",
     "output_type": "stream",
     "text": [
      "\n",
      "--- CRIME_TYPE ---\n",
      "Arson  →  0\n",
      "Assault  →  1\n",
      "Burglary  →  2\n",
      "Domestic Violence  →  3\n",
      "Drug Offense  →  4\n",
      "Fraud  →  5\n",
      "Homicide  →  6\n",
      "Robbery  →  7\n",
      "Theft  →  8\n",
      "Vandalism  →  9\n",
      "\n",
      "--- CITY ---\n",
      "Chicago  →  0\n",
      "Dallas  →  1\n",
      "Houston  →  2\n",
      "Los Angeles  →  3\n",
      "New York  →  4\n",
      "Philadelphia  →  5\n",
      "Phoenix  →  6\n",
      "San Antonio  →  7\n",
      "San Diego  →  8\n",
      "San Jose  →  9\n",
      "\n",
      "--- STATE ---\n",
      "AZ  →  0\n",
      "CA  →  1\n",
      "IL  →  2\n",
      "NY  →  3\n",
      "PA  →  4\n",
      "TX  →  5\n",
      "\n",
      "--- VICTIM_GENDER ---\n",
      "Female  →  0\n",
      "Male  →  1\n",
      "Non-binary  →  2\n",
      "Other  →  3\n",
      "\n",
      "--- VICTIM_RACE ---\n",
      "Asian  →  0\n",
      "Black  →  1\n",
      "Hispanic  →  2\n",
      "Other  →  3\n",
      "White  →  4\n"
     ]
    }
   ],
   "source": [
    "for col in le_dict:\n",
    "    print(f\"\\n--- {col.upper()} ---\")\n",
    "    for i, class_name in enumerate(le_dict[col].classes_):\n",
    "        print(f\"{class_name}  →  {i}\")"
   ]
  },
  {
   "cell_type": "code",
   "execution_count": 13,
   "id": "5a7390a5",
   "metadata": {
    "execution": {
     "iopub.execute_input": "2025-07-30T07:02:20.928895Z",
     "iopub.status.busy": "2025-07-30T07:02:20.927721Z",
     "iopub.status.idle": "2025-07-30T07:02:20.939432Z",
     "shell.execute_reply": "2025-07-30T07:02:20.938402Z"
    },
    "papermill": {
     "duration": 0.0189,
     "end_time": "2025-07-30T07:02:20.940986",
     "exception": false,
     "start_time": "2025-07-30T07:02:20.922086",
     "status": "completed"
    },
    "tags": []
   },
   "outputs": [
    {
     "name": "stdout",
     "output_type": "stream",
     "text": [
      "<class 'pandas.core.frame.DataFrame'>\n",
      "RangeIndex: 1000 entries, 0 to 999\n",
      "Data columns (total 10 columns):\n",
      " #   Column         Non-Null Count  Dtype\n",
      "---  ------         --------------  -----\n",
      " 0   crime_type     1000 non-null   int64\n",
      " 1   city           1000 non-null   int64\n",
      " 2   state          1000 non-null   int64\n",
      " 3   victim_age     1000 non-null   int64\n",
      " 4   victim_gender  1000 non-null   int64\n",
      " 5   victim_race    1000 non-null   int64\n",
      " 6   hour           1000 non-null   int32\n",
      " 7   dayofweek      1000 non-null   int32\n",
      " 8   month          1000 non-null   int32\n",
      " 9   year           1000 non-null   int32\n",
      "dtypes: int32(4), int64(6)\n",
      "memory usage: 62.6 KB\n"
     ]
    }
   ],
   "source": [
    "df.info()"
   ]
  },
  {
   "cell_type": "code",
   "execution_count": 14,
   "id": "4fea20f4",
   "metadata": {
    "execution": {
     "iopub.execute_input": "2025-07-30T07:02:20.952335Z",
     "iopub.status.busy": "2025-07-30T07:02:20.951496Z",
     "iopub.status.idle": "2025-07-30T07:02:20.994331Z",
     "shell.execute_reply": "2025-07-30T07:02:20.993210Z"
    },
    "papermill": {
     "duration": 0.050198,
     "end_time": "2025-07-30T07:02:20.996056",
     "exception": false,
     "start_time": "2025-07-30T07:02:20.945858",
     "status": "completed"
    },
    "tags": []
   },
   "outputs": [
    {
     "name": "stdout",
     "output_type": "stream",
     "text": [
      "[[6 2 1 0 5 1 4 0 1 2]\n",
      " [4 4 6 1 4 1 0 0 1 0]\n",
      " [6 2 4 0 1 2 3 2 2 1]\n",
      " [5 3 4 3 2 2 1 0 1 1]\n",
      " [5 3 2 2 0 1 3 0 2 0]\n",
      " [6 0 4 2 0 0 2 0 2 0]\n",
      " [2 4 2 2 2 0 2 1 2 2]\n",
      " [4 2 3 6 0 0 2 2 0 2]\n",
      " [4 4 5 0 3 0 1 0 0 2]\n",
      " [7 1 4 2 0 0 2 1 0 2]]\n",
      "              precision    recall  f1-score   support\n",
      "\n",
      "           0       0.12      0.27      0.17        22\n",
      "           1       0.16      0.19      0.17        21\n",
      "           2       0.11      0.17      0.14        23\n",
      "           3       0.17      0.14      0.15        22\n",
      "           4       0.00      0.00      0.00        18\n",
      "           5       0.00      0.00      0.00        16\n",
      "           6       0.10      0.11      0.10        19\n",
      "           7       0.33      0.10      0.15        21\n",
      "           8       0.00      0.00      0.00        19\n",
      "           9       0.17      0.11      0.13        19\n",
      "\n",
      "    accuracy                           0.12       200\n",
      "   macro avg       0.12      0.11      0.10       200\n",
      "weighted avg       0.12      0.12      0.11       200\n",
      "\n"
     ]
    }
   ],
   "source": [
    "X = df.drop(columns=['crime_type'])\n",
    "y = df['crime_type']\n",
    "\n",
    "# Divide data\n",
    "X_train, X_test, y_train, y_test = train_test_split(X, y, test_size=0.2, random_state=42)\n",
    "\n",
    "# Scale\n",
    "scaler = StandardScaler()\n",
    "X_train_scaled = scaler.fit_transform(X_train)\n",
    "X_test_scaled = scaler.transform(X_test)\n",
    "\n",
    "# Model\n",
    "knn = KNeighborsClassifier(n_neighbors=5)\n",
    "knn.fit(X_train_scaled, y_train)\n",
    "\n",
    "# Predictive\n",
    "y_pred = knn.predict(X_test_scaled)\n",
    "\n",
    "# Evaluation\n",
    "print(confusion_matrix(y_test, y_pred))\n",
    "print(classification_report(y_test, y_pred))"
   ]
  },
  {
   "cell_type": "code",
   "execution_count": 15,
   "id": "573bab14",
   "metadata": {
    "execution": {
     "iopub.execute_input": "2025-07-30T07:02:21.007320Z",
     "iopub.status.busy": "2025-07-30T07:02:21.006931Z",
     "iopub.status.idle": "2025-07-30T07:02:21.884298Z",
     "shell.execute_reply": "2025-07-30T07:02:21.883373Z"
    },
    "papermill": {
     "duration": 0.884739,
     "end_time": "2025-07-30T07:02:21.885898",
     "exception": false,
     "start_time": "2025-07-30T07:02:21.001159",
     "status": "completed"
    },
    "tags": []
   },
   "outputs": [
    {
     "data": {
      "image/png": "[encoded data removed]",
      "text/plain": [
       "<Figure size 640x480 with 1 Axes>"
      ]
     },
     "metadata": {},
     "output_type": "display_data"
    }
   ],
   "source": [
    "X_cluster = df.drop(columns=['crime_type'])\n",
    "X_scaled = scaler.fit_transform(X_cluster)\n",
    "\n",
    "# Elbow method\n",
    "wcss = []\n",
    "for i in range(1, 11):\n",
    "    kmeans = KMeans(n_clusters=i, random_state=42)\n",
    "    kmeans.fit(X_scaled)\n",
    "    wcss.append(kmeans.inertia_)\n",
    "\n",
    "plt.plot(range(1, 11), wcss, marker='o')\n",
    "plt.title('Elbow Yöntemi')\n",
    "plt.xlabel('Küme Sayısı')\n",
    "plt.ylabel('WCSS')\n",
    "plt.show()"
   ]
  },
  {
   "cell_type": "code",
   "execution_count": 16,
   "id": "29edefdd",
   "metadata": {
    "execution": {
     "iopub.execute_input": "2025-07-30T07:02:21.898413Z",
     "iopub.status.busy": "2025-07-30T07:02:21.898041Z",
     "iopub.status.idle": "2025-07-30T07:02:21.943891Z",
     "shell.execute_reply": "2025-07-30T07:02:21.943221Z"
    },
    "papermill": {
     "duration": 0.054859,
     "end_time": "2025-07-30T07:02:21.946561",
     "exception": false,
     "start_time": "2025-07-30T07:02:21.891702",
     "status": "completed"
    },
    "tags": []
   },
   "outputs": [
    {
     "name": "stdout",
     "output_type": "stream",
     "text": [
      "cluster\n",
      "0    365\n",
      "2    331\n",
      "1    304\n",
      "Name: count, dtype: int64\n"
     ]
    }
   ],
   "source": [
    "kmeans = KMeans(n_clusters=3, random_state=42)\n",
    "df['cluster'] = kmeans.fit_predict(X_scaled)\n",
    "\n",
    "# Cluster count\n",
    "print(df['cluster'].value_counts())"
   ]
  },
  {
   "cell_type": "code",
   "execution_count": 17,
   "id": "6ba12e5a",
   "metadata": {
    "execution": {
     "iopub.execute_input": "2025-07-30T07:02:21.963043Z",
     "iopub.status.busy": "2025-07-30T07:02:21.962709Z",
     "iopub.status.idle": "2025-07-30T07:02:22.314792Z",
     "shell.execute_reply": "2025-07-30T07:02:22.313560Z"
    },
    "papermill": {
     "duration": 0.362103,
     "end_time": "2025-07-30T07:02:22.317906",
     "exception": false,
     "start_time": "2025-07-30T07:02:21.955803",
     "status": "completed"
    },
    "tags": []
   },
   "outputs": [
    {
     "data": {
      "image/png": "[encoded data removed]",
      "text/plain": [
       "<Figure size 640x480 with 1 Axes>"
      ]
     },
     "metadata": {},
     "output_type": "display_data"
    }
   ],
   "source": [
    "\n",
    "pca = PCA(n_components=2)\n",
    "components = pca.fit_transform(X_scaled)\n",
    "\n",
    "df['pca1'] = components[:, 0]\n",
    "df['pca2'] = components[:, 1]\n",
    "\n",
    "sns.scatterplot(data=df, x='pca1', y='pca2', hue='cluster', palette='Set2')\n",
    "plt.title('KMeans Clustering Visualization')\n",
    "plt.show()"
   ]
  },
  {
   "cell_type": "code",
   "execution_count": 18,
   "id": "6c9ba109",
   "metadata": {
    "execution": {
     "iopub.execute_input": "2025-07-30T07:02:22.337383Z",
     "iopub.status.busy": "2025-07-30T07:02:22.336961Z",
     "iopub.status.idle": "2025-07-30T07:02:22.357257Z",
     "shell.execute_reply": "2025-07-30T07:02:22.356330Z"
    },
    "papermill": {
     "duration": 0.031621,
     "end_time": "2025-07-30T07:02:22.359196",
     "exception": false,
     "start_time": "2025-07-30T07:02:22.327575",
     "status": "completed"
    },
    "tags": []
   },
   "outputs": [
    {
     "data": {
      "text/plain": [
       "cluster  crime_type\n",
       "0        2             0.115068\n",
       "         4             0.112329\n",
       "         6             0.112329\n",
       "         3             0.104110\n",
       "         8             0.101370\n",
       "         9             0.098630\n",
       "         5             0.095890\n",
       "         1             0.093151\n",
       "         0             0.090411\n",
       "         7             0.076712\n",
       "1        3             0.134868\n",
       "         2             0.125000\n",
       "         0             0.108553\n",
       "         7             0.108553\n",
       "         1             0.105263\n",
       "         6             0.101974\n",
       "         9             0.098684\n",
       "         4             0.082237\n",
       "         5             0.072368\n",
       "         8             0.062500\n",
       "2        3             0.126888\n",
       "         2             0.123867\n",
       "         7             0.120846\n",
       "         8             0.099698\n",
       "         0             0.096677\n",
       "         5             0.096677\n",
       "         1             0.093656\n",
       "         6             0.087613\n",
       "         9             0.084592\n",
       "         4             0.069486\n",
       "Name: proportion, dtype: float64"
      ]
     },
     "execution_count": 18,
     "metadata": {},
     "output_type": "execute_result"
    }
   ],
   "source": [
    "df.groupby('cluster').mean()\n",
    "df.groupby('cluster')['crime_type'].value_counts(normalize=True)"
   ]
  },
  {
   "cell_type": "code",
   "execution_count": null,
   "id": "b3550d2c",
   "metadata": {
    "papermill": {
     "duration": 0.008013,
     "end_time": "2025-07-30T07:02:22.376083",
     "exception": false,
     "start_time": "2025-07-30T07:02:22.368070",
     "status": "completed"
    },
    "tags": []
   },
   "outputs": [],
   "source": []
  }
 ],
 "metadata": {
  "kaggle": {
   "accelerator": "none",
   "dataSources": [
    {
     "datasetId": 7962367,
     "sourceId": 12605724,
     "sourceType": "datasetVersion"
    }
   ],
   "dockerImageVersionId": 31089,
   "isGpuEnabled": false,
   "isInternetEnabled": true,
   "language": "python",
   "sourceType": "notebook"
  },
  "kernelspec": {
   "display_name": "Python 3",
   "language": "python",
   "name": "python3"
  },
  "language_info": {
   "codemirror_mode": {
    "name": "ipython",
    "version": 3
   },
   "file_extension": ".py",
   "mimetype": "text/x-python",
   "name": "python",
   "nbconvert_exporter": "python",
   "pygments_lexer": "ipython3",
   "version": "3.11.13"
  },
  "papermill": {
   "default_parameters": {},
   "duration": 12.658293,
   "end_time": "2025-07-30T07:02:23.105426",
   "environment_variables": {},
   "exception": null,
   "input_path": "__notebook__.ipynb",
   "output_path": "__notebook__.ipynb",
   "parameters": {},
   "start_time": "2025-07-30T07:02:10.447133",
   "version": "2.6.0"
  }
 },
 "nbformat": 4,
 "nbformat_minor": 5
}
